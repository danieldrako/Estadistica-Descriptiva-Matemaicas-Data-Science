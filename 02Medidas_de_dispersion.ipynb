{
  "nbformat": 4,
  "nbformat_minor": 0,
  "metadata": {
    "colab": {
      "provenance": [],
      "mount_file_id": "18CfFfuqMyvLqSek7BO7eiUuZxXAb505d",
      "authorship_tag": "ABX9TyM4fa9BgXzC0TYBR9+uSt9g",
      "include_colab_link": true
    },
    "kernelspec": {
      "name": "python3",
      "display_name": "Python 3"
    },
    "language_info": {
      "name": "python"
    }
  },
  "cells": [
    {
      "cell_type": "markdown",
      "metadata": {
        "id": "view-in-github",
        "colab_type": "text"
      },
      "source": [
        "<a href=\"https://colab.research.google.com/github/danieldrako/Estadistica-Descriptiva-Matemaicas-Data-Science/blob/main/02Medidas_de_dispersion.ipynb\" target=\"_parent\"><img src=\"https://colab.research.google.com/assets/colab-badge.svg\" alt=\"Open In Colab\"/></a>"
      ]
    },
    {
      "cell_type": "markdown",
      "source": [
        "# Medidas de dispersión\n",
        "\n",
        "continuamos con el dataset https://www.kaggle.com/lepchenkov/usedcarscatalog"
      ],
      "metadata": {
        "id": "iR_4fy2k36Qm"
      }
    },
    {
      "cell_type": "markdown",
      "source": [
        "###Medidas de dispersión\n",
        "\n",
        "Las medidas de dispersión, también llamadas medidas de variabilidad, muestran la variabilidad de una distribución, indicando por medio de un número, si las diferentes puntuaciones de una variable están muy alejadas de la media. Cuanto mayor sea ese valor, mayor será la variabilidad, cuanto menor sea, más homogénea será. Así se sabe si todos los casos son parecidos o varían mucho entre ellos.\n",
        "\n",
        "- Rango: El rango o recorrido estadístico es la diferencia entre el valor mínimo y el valor máximo en un grupo de números aleatorios. Se le suele simbolizar con R.\n",
        "Requisitos del rango:\n",
        "  * Se ordenan los números según su tamaño.\n",
        "  * Se resta el valor mínimo del valor máximo.\n",
        "\n",
        "- Cuartiles: Los cuartiles son valores que dividen una muestra de datos en cuatro partes iguales.\n",
        "\n",
        "  * 1er cuartil (Q1): 25% de los datos es menor que o igual a este \n",
        "\n",
        "  * 2do cuartil (Q2): La mediana. 50% de los datos es menor que o igual a este valor.\n",
        "\n",
        "  * 3er cuartil (Q3): 75% de los datos es menor que o igual a este valor.\n",
        "\n",
        "- Rango intercuartil: La distancia entre el primer 1er cuartil y el 3er cuartil (Q3-Q1); de esta manera, abarca el 50% central de los datos.\n",
        "\n",
        "- Diagrama de caja o box plot: representa gráficamente una serie de datos numéricos a través de sus cuartiles. De esta manera, el diagrama de caja muestra a simple vista la mediana y los cuartiles de los datos. También puede representar los valores atípicos de estos."
      ],
      "metadata": {
        "id": "nkEPEThE34BH"
      }
    },
    {
      "cell_type": "markdown",
      "source": [
        "## Desviación estándar\n",
        "La desviación estándar es la medida de dispersión más común, que indica qué tan dispersos están los datos con respecto a la media. Mientras mayor sea la desviación estándar, mayor será la dispersión de los datos.\n",
        "El símbolo σ (sigma) se utiliza frecuentemente para representar la desviación estándar de una población, mientras que s se utiliza para representar la desviación estándar de una muestra.\n",
        "La desviación estándar se puede utilizar para establecer un valor de referencia para estimar la variación general de un proceso.\n",
        "\n",
        "\n",
        "\n",
        "## Varianza\n",
        " Es una medida de dispersión que representa la variabilidad de una serie de datos respecto a su media. Formalmente se calcula como la suma de los residuos al cuadrado divididos entre el total de observaciones. Su fórmula es la siguiente:\n",
        "  * X → Variable sobre la que se pretenden calcular la varianza\n",
        "  * xi → Observación número i de la variable X. i puede tomará valores entre 1 y n.\n",
        "  * N → Número de observaciones.\n",
        "  * x̄ → Es la media de la variable X.\n",
        "\n",
        "La diferencia entre la desviación estándar o típica y la varianza, es que la la desviación típica es la raíz cuadrada de la varianza\n",
        "\n",
        "##Coeficiente de variación\n",
        "\n",
        "Y no nos podemos olvidar de otra medida de dispersión muy importante, que es el **coeficiente de variación**:\n",
        "\n",
        "Su cálculo se obtiene de dividir la desviación típica entre el valor absoluto de la media del conjunto y por lo general se expresa en porcentaje para su mejor comprensión.\n",
        "\n",
        "  * X → Variable sobre la que se pretenden calcular la varianza\n",
        "  * σx → Desviación típica de la variable X.\n",
        "  * | x̄ | → Es la media de la variable X en valor absoluto con x̄ ≠ 0\n",
        "\n",
        "El coeficiente de variación de utiliza para comparar la dispersión (variación) de conjuntos de datos de medidas diferentes o con medias aritméticas diferentes."
      ],
      "metadata": {
        "id": "gCEDeDvu34w-"
      }
    },
    {
      "cell_type": "code",
      "source": [
        "import pandas as pd \n",
        "import matplotlib.pyplot as plt\n",
        "import seaborn as sns\n",
        "\n",
        "df = pd.read_csv('/content/drive/MyDrive/Estadistica-Descriptiva-Matemaicas-Data-Science/car.csv')"
      ],
      "metadata": {
        "id": "XqFCTr2G36Qm"
      },
      "execution_count": null,
      "outputs": []
    },
    {
      "cell_type": "markdown",
      "source": [
        "Desviacion estandar "
      ],
      "metadata": {
        "id": "03wHM9fc36au"
      }
    },
    {
      "cell_type": "code",
      "source": [
        "df['price_usd'].std()"
      ],
      "metadata": {
        "id": "wxbiTG_P36au",
        "colab": {
          "base_uri": "https://localhost:8080/"
        },
        "outputId": "0eff342a-3375-4b01-e4c1-0df89476857d"
      },
      "execution_count": null,
      "outputs": [
        {
          "output_type": "execute_result",
          "data": {
            "text/plain": [
              "6428.1520182029035"
            ]
          },
          "metadata": {},
          "execution_count": 2
        }
      ]
    },
    {
      "cell_type": "markdown",
      "source": [
        "Rango = valor max - valor min\n",
        "\n"
      ],
      "metadata": {
        "id": "nwklIF4336f7"
      }
    },
    {
      "cell_type": "code",
      "source": [
        "rango = df['price_usd'].max() - df['price_usd'].min()\n",
        "rango"
      ],
      "metadata": {
        "id": "hEnfDuvN36f7",
        "colab": {
          "base_uri": "https://localhost:8080/"
        },
        "outputId": "4e356a04-3e11-4d09-b73f-d18e9c5e5dcf"
      },
      "execution_count": null,
      "outputs": [
        {
          "output_type": "execute_result",
          "data": {
            "text/plain": [
              "49999.0"
            ]
          },
          "metadata": {},
          "execution_count": 3
        }
      ]
    },
    {
      "cell_type": "markdown",
      "source": [
        "\n",
        "Quartiles\n"
      ],
      "metadata": {
        "id": "5REUpOH636wG"
      }
    },
    {
      "cell_type": "code",
      "source": [
        "median = df['price_usd'].median() #es uno de los cuartiles \n",
        "Q1 = df['price_usd'].quantile(q=0.25)\n",
        "Q3 = df['price_usd'].quantile(q=0.75)\n",
        "min_val = df['price_usd'].quantile(q=0)\n",
        "max_val = df['price_usd'].quantile(q=1.0)\n",
        "print(min_val, Q1, median, Q3, max_val)"
      ],
      "metadata": {
        "id": "pSaHzg-436wH",
        "colab": {
          "base_uri": "https://localhost:8080/"
        },
        "outputId": "06a86d5d-ba53-4865-9897-470b186bd8ea"
      },
      "execution_count": null,
      "outputs": [
        {
          "output_type": "stream",
          "name": "stdout",
          "text": [
            "1.0 2100.0 4800.0 8990.0 50000.0\n"
          ]
        }
      ]
    },
    {
      "cell_type": "markdown",
      "source": [
        "Rango intercuartilico "
      ],
      "metadata": {
        "id": "Tg2wyu31362-"
      }
    },
    {
      "cell_type": "code",
      "source": [
        "iqr = Q3 - Q1\n",
        "iqr"
      ],
      "metadata": {
        "id": "kk1Hov3D362-",
        "colab": {
          "base_uri": "https://localhost:8080/"
        },
        "outputId": "a1018319-edc2-41c9-ca4c-324b7ec32f52"
      },
      "execution_count": null,
      "outputs": [
        {
          "output_type": "execute_result",
          "data": {
            "text/plain": [
              "6890.0"
            ]
          },
          "metadata": {},
          "execution_count": 5
        }
      ]
    },
    {
      "cell_type": "markdown",
      "source": [
        "### Límites para detección de outliers (datos simetricamente distribuidos)\n",
        "\n",
        "Datos entre  $Q_1 -1.5 \\times \\text{IQR}$ y $Q_3 + 1.5 \\times \\text{IQR}$"
      ],
      "metadata": {
        "id": "afMUbixH366m"
      }
    },
    {
      "cell_type": "code",
      "source": [
        "minlimit = Q1 - 1.5*iqr\n",
        "maxlimit = Q3 + 1.5*iqr\n",
        "print('rango para detección de outliers: {}, {}'.format(minlimit, maxlimit))"
      ],
      "metadata": {
        "id": "wcP8oNOx366m",
        "colab": {
          "base_uri": "https://localhost:8080/"
        },
        "outputId": "e4d0b325-348b-454c-d2e3-3b8050e3b4ae"
      },
      "execution_count": null,
      "outputs": [
        {
          "output_type": "stream",
          "name": "stdout",
          "text": [
            "rango para detección de outliers: -8235.0, 19325.0\n"
          ]
        }
      ]
    },
    {
      "cell_type": "markdown",
      "source": [
        "Diagrama de caja"
      ],
      "metadata": {
        "id": "5ItnF5Fs369f"
      }
    },
    {
      "cell_type": "code",
      "source": [
        "sns.set(rc={'figure.figsize':(11.7,8.27)})\n",
        "f, (ax_hist, ax_box) = plt.subplots(2, sharex=True, gridspec_kw={\"height_ratios\": (.6, .4)})\n",
        "sns.histplot(df['price_usd'], ax=ax_hist)\n",
        "sns.boxplot(df['price_usd'], ax=ax_box)\n",
        "ax_hist.set(xlabel='')"
      ],
      "metadata": {
        "id": "JRBdSqnt369g",
        "colab": {
          "base_uri": "https://localhost:8080/",
          "height": 592
        },
        "outputId": "49569fc5-2a1a-46ab-b34d-fdae773b707c"
      },
      "execution_count": null,
      "outputs": [
        {
          "output_type": "stream",
          "name": "stderr",
          "text": [
            "/usr/local/lib/python3.7/dist-packages/seaborn/_decorators.py:43: FutureWarning: Pass the following variable as a keyword arg: x. From version 0.12, the only valid positional argument will be `data`, and passing other arguments without an explicit keyword will result in an error or misinterpretation.\n",
            "  FutureWarning\n"
          ]
        },
        {
          "output_type": "execute_result",
          "data": {
            "text/plain": [
              "[Text(0.5, 0, '')]"
            ]
          },
          "metadata": {},
          "execution_count": 7
        },
        {
          "output_type": "display_data",
          "data": {
            "text/plain": [
              "<Figure size 842.4x595.44 with 2 Axes>"
            ],
            "image/png": "[encoded data removed]"
          },
          "metadata": {}
        }
      ]
    },
    {
      "cell_type": "markdown",
      "source": [
        "Es posible calcular varios box-plot separando por una cierta variable categórica:"
      ],
      "metadata": {
        "id": "2alc79_A37AX"
      }
    },
    {
      "cell_type": "code",
      "source": [
        "sns.boxplot(x = 'engine_fuel', y = 'price_usd', data = df)"
      ],
      "metadata": {
        "id": "N_uQfqBo37AX",
        "colab": {
          "base_uri": "https://localhost:8080/",
          "height": 535
        },
        "outputId": "f90ad7d6-fa82-43e4-86f3-c08dc2a37fad"
      },
      "execution_count": null,
      "outputs": [
        {
          "output_type": "execute_result",
          "data": {
            "text/plain": [
              "<matplotlib.axes._subplots.AxesSubplot at 0x7f997132cb10>"
            ]
          },
          "metadata": {},
          "execution_count": 8
        },
        {
          "output_type": "display_data",
          "data": {
            "text/plain": [
              "<Figure size 842.4x595.44 with 1 Axes>"
            ],
            "image/png": "[encoded data removed]"
          },
          "metadata": {}
        }
      ]
    },
    {
      "cell_type": "markdown",
      "source": [],
      "metadata": {
        "id": "QQmLx2d3diQQ"
      }
    }
  ]
}